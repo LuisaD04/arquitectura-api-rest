{
 "cells": [
  {
   "cell_type": "code",
   "execution_count": 10,
   "metadata": {},
   "outputs": [
    {
     "name": "stdout",
     "output_type": "stream",
     "text": [
      "{\n",
      "  \"mensaje\": \"parametros recibidos, parametro1 = valor1, parametro2 = valor2\"\n",
      "}\n",
      "\n"
     ]
    }
   ],
   "source": [
    "import requests\n",
    "\n",
    "# URL de la API\n",
    "url = 'http://127.0.0.1:5000/submit'\n",
    "\n",
    "# Datos a enviar como JSON\n",
    "data = {\n",
    "    'param1': 'valor1',\n",
    "    'param2': 'valor2'\n",
    "}\n",
    "\n",
    "# Realiza la solicitud POST\n",
    "response = requests.post(url, data=data)\n",
    "\n",
    "# Imprime la respuesta de la API\n",
    "print(response.text)\n"
   ]
  },
  {
   "cell_type": "code",
   "execution_count": 15,
   "metadata": {},
   "outputs": [
    {
     "name": "stdout",
     "output_type": "stream",
     "text": [
      "[(1, 'aaaaa', 'bbbbb'), (2, 'haha', 'hehe'), (3, 'haha', 'hehe'), (4, 'kokoko', 'kikiki'), (5, 'valor1', 'valor2'), (6, 'valor1', 'valor2'), (7, 'valor1', 'valor2'), (8, 'valor1', 'valor2'), (9, 'valor1', 'valor2'), (10, 'valor1', 'valor2'), (11, 'valor1', 'valor2'), (12, 'arroz', 'leche'), (13, 'valor1', 'valor2'), (14, 'valor1', 'valor2'), (15, 'arroz', 'leche'), (16, 'arroz', 'leche'), (17, 'arroz', 'leche'), (18, 'valor1', 'valor2'), (19, 'valor1', 'valor2'), (20, 'arroz', 'leche'), (21, 'valor1', 'valor2'), (22, 'valor1', 'valor2'), (23, 'valor1', 'valor2'), (24, 'valor1', 'valor2'), (25, 'valor1', 'valor2'), (26, 'valor1', 'valor2'), (27, 'arroz', 'leche'), (28, 'arroz', 'leche'), (29, 'arroz', 'leche'), (30, 'arroz', 'leche'), (31, 'arrozee', 'fefe'), (32, 'valor1', 'valor2'), (33, 'valor1', 'valor2'), (34, 'valor1', 'valor2'), (35, 'valor1', 'valor2'), (36, 'valor1', 'valor2'), (37, 'valor1', 'valor2'), (38, 'valor1', 'valor2'), (39, 'valor1', 'valor2'), (40, 'azucar', 'arroz'), (41, 'valor1', 'valor2'), (42, 'valor1', 'valor2'), (43, 'valor1', 'valor2'), (44, 'valor1', 'valor2'), (45, 'valor1', 'valor2'), (46, 'valor1', 'valor2'), (47, 'valor1', 'valor2'), (48, 'valor1', 'valor2'), (49, 'valor1', 'valor2'), (50, 'valor1', 'valor2'), (51, 'arroz', 'leche'), (52, 'valor1', 'valor2'), (53, 'valor1', 'valor2'), (54, 'valor1', 'valor2'), (55, 'valor1', 'valor2'), (56, 'valor1', 'valor2'), (57, 'valor1', 'valor2'), (58, 'valor1', 'valor2'), (59, 'valor1', 'valor2'), (60, 'valor1', 'valor2'), (61, 'valor1', 'valor2'), (62, 'valor1', 'valor2'), (63, 'valor1', 'valor2'), (64, 'valor1', 'valor2'), (65, 'valor1', 'valor2'), (66, 'valor1', 'valor2'), (67, 'valor1', 'valor2'), (68, 'valor1', 'valor2'), (69, 'valor1', 'valor2')]\n"
     ]
    }
   ],
   "source": [
    "import sqlite3\n",
    "\n",
    "con = sqlite3.connect(\"formulario.db\")\n",
    "print(con.execute(\"select * from formulario2\").fetchall())\n",
    "con.close()"
   ]
  },
  {
   "cell_type": "code",
   "execution_count": 12,
   "metadata": {},
   "outputs": [],
   "source": []
  },
  {
   "cell_type": "code",
   "execution_count": 16,
   "metadata": {},
   "outputs": [
    {
     "name": "stdout",
     "output_type": "stream",
     "text": [
      "<html><head><title>Apache Tomcat/6.0.37 - Error report</title><style><!--H1 {font-family:Tahoma,Arial,sans-serif;color:white;background-color:#525D76;font-size:22px;} H2 {font-family:Tahoma,Arial,sans-serif;color:white;background-color:#525D76;font-size:16px;} H3 {font-family:Tahoma,Arial,sans-serif;color:white;background-color:#525D76;font-size:14px;} BODY {font-family:Tahoma,Arial,sans-serif;color:black;background-color:white;} B {font-family:Tahoma,Arial,sans-serif;color:white;background-color:#525D76;} P {font-family:Tahoma,Arial,sans-serif;background:white;color:black;font-size:12px;}A {color : black;}A.name {color : black;}HR {color : #525D76;}--></style> </head><body><h1>HTTP Status 405 - Method Not Allowed</h1><HR size=\"1\" noshade=\"noshade\"><p><b>type</b> Status report</p><p><b>message</b> <u>Method Not Allowed</u></p><p><b>description</b> <u>The specified HTTP method is not allowed for the requested resource.</u></p><HR size=\"1\" noshade=\"noshade\"><h3>Apache Tomcat/6.0.37</h3></body></html>\n"
     ]
    }
   ],
   "source": [
    "import requests\n",
    "\n",
    "# URL de la API\n",
    "url = 'https://api.spoonacular.com/recipes/complexSearch?apiKey=b9906c0e4424400bab3d9a477a40898d&query=chicken&cuisine=american'\n",
    "\n",
    "# Datos a enviar como JSON\n",
    "data = {\n",
    "    'param1': 'valor1',\n",
    "    'param2': 'valor2'\n",
    "}\n",
    "\n",
    "# Realiza la solicitud POST\n",
    "response = requests.post(url, data=data)\n",
    "\n",
    "# Imprime la respuesta de la API\n",
    "print(response.text)"
   ]
  },
  {
   "cell_type": "code",
   "execution_count": null,
   "metadata": {},
   "outputs": [],
   "source": []
  }
 ],
 "metadata": {
  "kernelspec": {
   "display_name": "base",
   "language": "python",
   "name": "python3"
  },
  "language_info": {
   "codemirror_mode": {
    "name": "ipython",
    "version": 3
   },
   "file_extension": ".py",
   "mimetype": "text/x-python",
   "name": "python",
   "nbconvert_exporter": "python",
   "pygments_lexer": "ipython3",
   "version": "3.9.13"
  }
 },
 "nbformat": 4,
 "nbformat_minor": 2
}
